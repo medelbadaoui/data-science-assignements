{
 "metadata": {
  "language_info": {
   "codemirror_mode": {
    "name": "ipython",
    "version": 3
   },
   "file_extension": ".py",
   "mimetype": "text/x-python",
   "name": "python",
   "nbconvert_exporter": "python",
   "pygments_lexer": "ipython3",
   "version": "3.8.5-final"
  },
  "orig_nbformat": 2,
  "kernelspec": {
   "name": "python3",
   "display_name": "Python 3"
  }
 },
 "nbformat": 4,
 "nbformat_minor": 2,
 "cells": [
  {
   "cell_type": "code",
   "execution_count": 1,
   "metadata": {},
   "outputs": [],
   "source": [
    "import pandas as pd\n",
    "from sklearn.model_selection import train_test_split\n",
    "import numpy as np\n",
    "import matplotlib.pyplot as plt\n"
   ]
  },
  {
   "cell_type": "code",
   "execution_count": 3,
   "metadata": {},
   "outputs": [],
   "source": [
    "#Data collection\n",
    "data = pd.read_csv(\"..\\DataSets\\diabetes.csv\")\n",
    "\n",
    "#Data initialization\n",
    "feature_cols = ['Glucose','BloodPressure','SkinThickness']\n",
    "#feature_cols = ['Pregnancies','Glucose','BloodPressure','SkinThickness','Insulin','BMI','DiabetesPedigreeFunction','Age']\n",
    "X=data[feature_cols]\n",
    "#X=preprocessing.minmax_scale(X, feature_range=(0, 1), axis=0, copy=True)\n",
    "y=data[['Outcome']]\n"
   ]
  },
  {
   "cell_type": "code",
   "execution_count": 4,
   "metadata": {},
   "outputs": [],
   "source": [
    "X_train,X_test,y_train,y_test=train_test_split(X,y,test_size=0.2, random_state=12)"
   ]
  },
  {
   "cell_type": "code",
   "execution_count": 5,
   "metadata": {},
   "outputs": [],
   "source": [
    "def confmatrix(yr,yp):\n",
    "    tp,tn,fp,fn=0,0,0,0\n",
    "    for (i,j) in zip(yr, yp):\n",
    "        if(i==j==0):\n",
    "            tn+=1\n",
    "        if(i==j==1):\n",
    "            tp+=1\n",
    "        if(i<j):\n",
    "            fp+=1\n",
    "        if(i>j):\n",
    "            fn+=1\n",
    "    return np.matrix([[tn,fp],[fn,tp]])\n",
    "\n",
    "def accuracy(yr,yp):\n",
    "    m=confmatrix(yr,yp)\n",
    "    return (m.item(0)+m.item(3))/m.sum()"
   ]
  },
  {
   "cell_type": "code",
   "execution_count": 6,
   "metadata": {},
   "outputs": [],
   "source": [
    "def sigmoid(x):\n",
    "    return 1/(1+np.exp(-x))\n"
   ]
  },
  {
   "cell_type": "code",
   "execution_count": null,
   "metadata": {},
   "outputs": [],
   "source": [
    "def fit(X,y):\n",
    "    bias=0\n",
    "    W=np.zeros((n_features,1),)\n",
    "    n_samples,n_features=X.shape\n",
    "    for i in range(n_iters):\n",
    "        linear_model=np.dot(X,W)+bias\n",
    "        y_predicted=sigmoid(linear_model)\n",
    "        dW=(1/n_samples)*np.dot(X.T,(y_predicted-y))\n",
    "        dbias=(1/n_samples)*np.sum(y_predicted-y)\n",
    "        W-=lr*dW \n",
    "        bias-=lr*dbias \n",
    "        loss = (-1/n_samples)* np.sum(y * np.log(y_predicted) + (1 - y) * np.log(1-y_predicted))\n",
    "        y_predicted_cls=np.array([1 if i>0.5 else 0 for i in y_predicted])\n",
    "        acc=accuracy(y,y_predicted_cls)\n",
    "        if(i%10000==0):\n",
    "            print(i,W,bias,loss,acc)\n",
    "            w1=W[0]\n",
    "            w2=W[1]\n",
    "            slope = (-bias/w2)-(w1/w2)*X_test\n",
    "            plt.plot(X_test, slope,'r')\n",
    "            plt.plot(X[y==1],y[y==1],'bo')\n",
    "            plt.plot(X[y==0],y[y==0],'ro')\n",
    "            plt.show()\n",
    "    return bias,W"
   ]
  }
 ]
}